{
 "cells": [
  {
   "cell_type": "code",
   "execution_count": 1,
   "id": "2de766bd-3231-43d2-9ec9-c2ad0ba2b1df",
   "metadata": {},
   "outputs": [
    {
     "name": "stdout",
     "output_type": "stream",
     "text": [
      "Requirement already satisfied: requests in c:\\users\\admin\\anaconda3\\lib\\site-packages (2.32.3)\n",
      "Collecting pymongo\n",
      "  Downloading pymongo-4.15.1-cp313-cp313-win_amd64.whl.metadata (22 kB)\n",
      "Requirement already satisfied: pandas in c:\\users\\admin\\anaconda3\\lib\\site-packages (2.2.3)\n",
      "Requirement already satisfied: charset-normalizer<4,>=2 in c:\\users\\admin\\anaconda3\\lib\\site-packages (from requests) (3.3.2)\n",
      "Requirement already satisfied: idna<4,>=2.5 in c:\\users\\admin\\anaconda3\\lib\\site-packages (from requests) (3.7)\n",
      "Requirement already satisfied: urllib3<3,>=1.21.1 in c:\\users\\admin\\anaconda3\\lib\\site-packages (from requests) (2.3.0)\n",
      "Requirement already satisfied: certifi>=2017.4.17 in c:\\users\\admin\\anaconda3\\lib\\site-packages (from requests) (2025.8.3)\n",
      "Collecting dnspython<3.0.0,>=1.16.0 (from pymongo)\n",
      "  Downloading dnspython-2.8.0-py3-none-any.whl.metadata (5.7 kB)\n",
      "Requirement already satisfied: numpy>=1.26.0 in c:\\users\\admin\\anaconda3\\lib\\site-packages (from pandas) (2.1.3)\n",
      "Requirement already satisfied: python-dateutil>=2.8.2 in c:\\users\\admin\\anaconda3\\lib\\site-packages (from pandas) (2.9.0.post0)\n",
      "Requirement already satisfied: pytz>=2020.1 in c:\\users\\admin\\anaconda3\\lib\\site-packages (from pandas) (2024.1)\n",
      "Requirement already satisfied: tzdata>=2022.7 in c:\\users\\admin\\anaconda3\\lib\\site-packages (from pandas) (2025.2)\n",
      "Requirement already satisfied: six>=1.5 in c:\\users\\admin\\anaconda3\\lib\\site-packages (from python-dateutil>=2.8.2->pandas) (1.17.0)\n",
      "Downloading pymongo-4.15.1-cp313-cp313-win_amd64.whl (962 kB)\n",
      "   ---------------------------------------- 0.0/962.2 kB ? eta -:--:--\n",
      "   --------------------------------------- 962.2/962.2 kB 13.9 MB/s eta 0:00:00\n",
      "Downloading dnspython-2.8.0-py3-none-any.whl (331 kB)\n",
      "Installing collected packages: dnspython, pymongo\n",
      "\n",
      "   ---------------------------------------- 0/2 [dnspython]\n",
      "   ---------------------------------------- 0/2 [dnspython]\n",
      "   -------------------- ------------------- 1/2 [pymongo]\n",
      "   -------------------- ------------------- 1/2 [pymongo]\n",
      "   -------------------- ------------------- 1/2 [pymongo]\n",
      "   ---------------------------------------- 2/2 [pymongo]\n",
      "\n",
      "Successfully installed dnspython-2.8.0 pymongo-4.15.1\n",
      "Note: you may need to restart the kernel to use updated packages.\n"
     ]
    }
   ],
   "source": [
    "pip install requests pymongo pandas"
   ]
  },
  {
   "cell_type": "code",
   "execution_count": 2,
   "id": "54fd9d22-54b3-4476-ae27-1dbdff17d4f5",
   "metadata": {},
   "outputs": [],
   "source": [
    "# pip install requests pymongo\n",
    "\n",
    "import os\n",
    "from datetime import datetime, timezone\n",
    "import requests\n",
    "from pymongo import MongoClient, ASCENDING\n",
    "from datetime import datetime, timezone"
   ]
  },
  {
   "cell_type": "code",
   "execution_count": 3,
   "id": "4f2a5352-2799-4a63-9d59-c91d225053ac",
   "metadata": {},
   "outputs": [],
   "source": [
    "# =======================\n",
    "# Config (live-only)\n",
    "# =======================\n",
    "API_KEY = \"7bdaae7abc6622e671495ef02578a955\"   # your real key\n",
    "CITY    = \"London\"\n",
    "\n",
    "MONGO_URI   = os.getenv(\"MONGO_URI\", \"mongodb://127.0.0.1:27017\")\n",
    "DB_NAME     = \"sales_weatherinfo_db\"\n",
    "WEATHER_COL = \"weather\"   # existing collection is fine"
   ]
  },
  {
   "cell_type": "code",
   "execution_count": 4,
   "id": "e9e70087-a745-4226-aad5-533d0f0c8a5e",
   "metadata": {},
   "outputs": [],
   "source": [
    "# =======================\n",
    "# Helpers\n",
    "# =======================\n",
    "def midnight_utc_naive(dt_utc: datetime) -> datetime:\n",
    "    \"\"\"Return midnight (00:00:00) in UTC as a naive datetime (Mongo stores as UTC).\"\"\"\n",
    "    dt_utc = dt_utc.astimezone(timezone.utc)\n",
    "    return datetime(dt_utc.year, dt_utc.month, dt_utc.day, 0, 0, 0, 0)"
   ]
  },
  {
   "cell_type": "code",
   "execution_count": 5,
   "id": "eb07abf6-f733-4715-aad2-1ef9abf8615e",
   "metadata": {},
   "outputs": [],
   "source": [
    "def ensure_indexes(col):\n",
    "    # Idempotent; if they already exist, MongoDB keeps them as-is.\n",
    "    col.create_index([(\"weather_date\", ASCENDING), (\"city\", ASCENDING)], unique=True)\n",
    "    col.create_index([(\"city\", ASCENDING), (\"weather_date\", ASCENDING)])"
   ]
  },
  {
   "cell_type": "code",
   "execution_count": 6,
   "id": "e493f08b-540a-4854-b6f4-bffab4e86bcc",
   "metadata": {},
   "outputs": [],
   "source": [
    "def upsert_weather(doc: dict, col):\n",
    "    col.update_one(\n",
    "        {\"weather_date\": doc[\"weather_date\"], \"city\": doc[\"city\"]},\n",
    "        {\"$set\": doc},\n",
    "        upsert=True\n",
    "    )"
   ]
  },
  {
   "cell_type": "code",
   "execution_count": null,
   "id": "b52b5d49-c8b1-4ab2-8a84-c574d2e0252a",
   "metadata": {},
   "outputs": [],
   "source": []
  }
 ],
 "metadata": {
  "kernelspec": {
   "display_name": "Python 3 (ipykernel)",
   "language": "python",
   "name": "python3"
  },
  "language_info": {
   "codemirror_mode": {
    "name": "ipython",
    "version": 3
   },
   "file_extension": ".py",
   "mimetype": "text/x-python",
   "name": "python",
   "nbconvert_exporter": "python",
   "pygments_lexer": "ipython3",
   "version": "3.13.5"
  }
 },
 "nbformat": 4,
 "nbformat_minor": 5
}

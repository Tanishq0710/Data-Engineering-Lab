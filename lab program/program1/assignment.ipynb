{
 "cells": [
  {
   "cell_type": "code",
   "execution_count": null,
   "id": "d060ab66-7eb7-425c-9548-4c7f2b33be20",
   "metadata": {},
   "outputs": [],
   "source": [
    "import pandas as pd\n",
    "import numpy as np\n",
    "import re\n"
   ]
  },
  {
   "cell_type": "code",
   "execution_count": 6,
   "id": "391ab71f-7a79-40c8-ba20-229bb850e455",
   "metadata": {},
   "outputs": [],
   "source": [
    "df = pd.read_csv('customers - customers.csv')\n"
   ]
  },
  {
   "cell_type": "code",
   "execution_count": 7,
   "id": "9bfa80da-4f8e-471e-bdca-ab0fba5be895",
   "metadata": {},
   "outputs": [],
   "source": [
    "df = df.drop_duplicates()"
   ]
  },
  {
   "cell_type": "code",
   "execution_count": 8,
   "id": "b43a7680-67b7-467b-80c3-e5af232cdae5",
   "metadata": {},
   "outputs": [],
   "source": [
    "def is_valid_email(email):\n",
    "    if pd.isna(email):\n",
    "        return False\n",
    "    return re.match(r\"[^@]+@[^@]+\\.[^@]+\", str(email)) is not None\n",
    "\n",
    "df['email'] = df['email'].apply(lambda x: x if is_valid_email(x) else np.nan)\n"
   ]
  },
  {
   "cell_type": "code",
   "execution_count": 9,
   "id": "df26387e-6006-4fb4-8616-48be890748bb",
   "metadata": {},
   "outputs": [],
   "source": [
    "# 3. Set invalid ages (<=0 or NaN) to the median age\n",
    "valid_ages = df['age'].dropna()\n",
    "valid_ages = valid_ages[valid_ages > 0]\n",
    "median_age = valid_ages.median()\n",
    "df['age'] = df['age'].apply(lambda x: median_age if pd.isna(x) or x <= 0 else x)"
   ]
  },
  {
   "cell_type": "code",
   "execution_count": 10,
   "id": "1cc101f6-0c5b-438f-8a96-9cfcbff9328c",
   "metadata": {},
   "outputs": [],
   "source": [
    "# 4. Fill missing names and cities with 'Unknown'\n",
    "df['name'] = df['name'].fillna('Aditya')\n",
    "df['city'] = df['city'].fillna('Pune')"
   ]
  },
  {
   "cell_type": "code",
   "execution_count": 11,
   "id": "874a2952-62a8-4000-bdc1-ad087e23bf94",
   "metadata": {},
   "outputs": [],
   "source": [
    "df['email'] = df['email'].fillna('abc@gmail.com')\n",
    "\n"
   ]
  },
  {
   "cell_type": "code",
   "execution_count": 12,
   "id": "b1009122-b80d-4544-b9e2-155075daddb6",
   "metadata": {},
   "outputs": [],
   "source": [
    "df.to_csv('customers_cleaned2.csv', index=False)\n"
   ]
  },
  {
   "cell_type": "code",
   "execution_count": 13,
   "id": "ffd3f713-db23-48e1-b31a-1e0402515a06",
   "metadata": {},
   "outputs": [
    {
     "name": "stdout",
     "output_type": "stream",
     "text": [
      "Data cleaning completed. Cleaned data saved to 'customers_cleaned.csv'.\n"
     ]
    }
   ],
   "source": [
    "print(\"Data cleaning completed. Cleaned data saved to 'customers_cleaned.csv'.\")"
   ]
  },
  {
   "cell_type": "code",
   "execution_count": null,
   "id": "8f743d79-77de-469c-b218-4bf3a62e0f27",
   "metadata": {},
   "outputs": [],
   "source": []
  },
  {
   "cell_type": "code",
   "execution_count": null,
   "id": "bfc2b120-9a03-4282-a3e3-8a01bae0021c",
   "metadata": {},
   "outputs": [],
   "source": []
  }
 ],
 "metadata": {
  "kernelspec": {
   "display_name": "anaconda-2024.02-py310",
   "language": "python",
   "name": "conda-env-anaconda-2024.02-py310-py"
  },
  "language_info": {
   "codemirror_mode": {
    "name": "ipython",
    "version": 3
   },
   "file_extension": ".py",
   "mimetype": "text/x-python",
   "name": "python",
   "nbconvert_exporter": "python",
   "pygments_lexer": "ipython3",
   "version": "3.10.14"
  }
 },
 "nbformat": 4,
 "nbformat_minor": 5
}
